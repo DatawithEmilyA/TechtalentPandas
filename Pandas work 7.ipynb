{
 "metadata": {
  "language_info": {
   "codemirror_mode": {
    "name": "ipython",
    "version": 3
   },
   "file_extension": ".py",
   "mimetype": "text/x-python",
   "name": "python",
   "nbconvert_exporter": "python",
   "pygments_lexer": "ipython3",
   "version": "3.8.5-final"
  },
  "orig_nbformat": 2,
  "kernelspec": {
   "name": "python3",
   "display_name": "Python 3",
   "language": "python"
  }
 },
 "nbformat": 4,
 "nbformat_minor": 2,
 "cells": [
  {
   "cell_type": "code",
   "execution_count": 17,
   "metadata": {},
   "outputs": [],
   "source": [
    "import pandas as pd"
   ]
  },
  {
   "cell_type": "code",
   "execution_count": 23,
   "metadata": {},
   "outputs": [
    {
     "output_type": "execute_result",
     "data": {
      "text/plain": [
       "  Holiday_destinations  Score_out_of_10  Average_star_rating  \\\n",
       "0                Spain                9                    2   \n",
       "4             Barbados                9                    5   \n",
       "5              England               10                    2   \n",
       "\n",
       "   No_of_all-inc_hotels Most_visited_destinations  \n",
       "0                    90             South Beaches  \n",
       "4                    87                Bridgetown  \n",
       "5                    30                    London  "
      ],
      "text/html": "<div>\n<style scoped>\n    .dataframe tbody tr th:only-of-type {\n        vertical-align: middle;\n    }\n\n    .dataframe tbody tr th {\n        vertical-align: top;\n    }\n\n    .dataframe thead th {\n        text-align: right;\n    }\n</style>\n<table border=\"1\" class=\"dataframe\">\n  <thead>\n    <tr style=\"text-align: right;\">\n      <th></th>\n      <th>Holiday_destinations</th>\n      <th>Score_out_of_10</th>\n      <th>Average_star_rating</th>\n      <th>No_of_all-inc_hotels</th>\n      <th>Most_visited_destinations</th>\n    </tr>\n  </thead>\n  <tbody>\n    <tr>\n      <th>0</th>\n      <td>Spain</td>\n      <td>9</td>\n      <td>2</td>\n      <td>90</td>\n      <td>South Beaches</td>\n    </tr>\n    <tr>\n      <th>4</th>\n      <td>Barbados</td>\n      <td>9</td>\n      <td>5</td>\n      <td>87</td>\n      <td>Bridgetown</td>\n    </tr>\n    <tr>\n      <th>5</th>\n      <td>England</td>\n      <td>10</td>\n      <td>2</td>\n      <td>30</td>\n      <td>London</td>\n    </tr>\n  </tbody>\n</table>\n</div>"
     },
     "metadata": {},
     "execution_count": 23
    }
   ],
   "source": [
    "data = pd.read_csv(\"holidays.csv\")\n",
    "\n",
    "data[(data.Score_out_of_10 > 8) & (data.Holiday_destinations)]\n",
    "\n"
   ]
  },
  {
   "cell_type": "code",
   "execution_count": null,
   "metadata": {},
   "outputs": [],
   "source": [
    "\n"
   ]
  }
 ]
}