{
 "metadata": {
  "language_info": {
   "codemirror_mode": {
    "name": "ipython",
    "version": 3
   },
   "file_extension": ".py",
   "mimetype": "text/x-python",
   "name": "python",
   "nbconvert_exporter": "python",
   "pygments_lexer": "ipython3",
   "version": "3.8.5-final"
  },
  "orig_nbformat": 2,
  "kernelspec": {
   "name": "python3",
   "display_name": "Python 3",
   "language": "python"
  }
 },
 "nbformat": 4,
 "nbformat_minor": 2,
 "cells": [
  {
   "cell_type": "code",
   "execution_count": 14,
   "metadata": {},
   "outputs": [],
   "source": [
    "import pandas as pd"
   ]
  },
  {
   "cell_type": "code",
   "execution_count": 15,
   "metadata": {},
   "outputs": [
    {
     "output_type": "stream",
     "name": "stdout",
     "text": [
      "   Holiday_destinations  Score_out_of_10  Average_star_rating  \\\n0                 Spain                9                    2   \n1       South of France                7                    2   \n2                 Crete                2                    2   \n3                 Japan                5                    3   \n4              Barbados                9                    5   \n5               England               10                    2   \n6              Portugal                4                    1   \n7                   USA                2                    1   \n8                Canada                6                    2   \n9                Mexico                5                    3   \n10              Iceland                8                    1   \n11               Russia                7                    5   \n12            Australia                0                    4   \n13          New Zealand                8                    3   \n14              Vietnam                6                    2   \n\n    No_of_all-inc_hotels Most_visited_destinations  \n0                     90             South Beaches  \n1                     56              Saint-Tropez  \n2                     44                 Elafonisi  \n3                   1232                     Tokyo  \n4                     87                Bridgetown  \n5                     30                    London  \n6                   1268                    Lisbon  \n7                     66                       NYC  \n8                    346                  Montreal  \n9                    238                    Cancun  \n10                    95                Reyjkjavik  \n11                   337                Stalingrad  \n12                   456           New South Wales  \n13                   285                  Auckland  \n14                   556                     Hanoi  \n"
     ]
    }
   ],
   "source": [
    "data = pd.read_csv(\"holidays.csv\")\n",
    "\n",
    "print(data)"
   ]
  },
  {
   "cell_type": "code",
   "execution_count": null,
   "metadata": {},
   "outputs": [],
   "source": []
  }
 ]
}