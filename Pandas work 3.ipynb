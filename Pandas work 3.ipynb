{
 "metadata": {
  "language_info": {
   "codemirror_mode": {
    "name": "ipython",
    "version": 3
   },
   "file_extension": ".py",
   "mimetype": "text/x-python",
   "name": "python",
   "nbconvert_exporter": "python",
   "pygments_lexer": "ipython3",
   "version": "3.8.5-final"
  },
  "orig_nbformat": 2,
  "kernelspec": {
   "name": "python3",
   "display_name": "Python 3",
   "language": "python"
  }
 },
 "nbformat": 4,
 "nbformat_minor": 2,
 "cells": [
  {
   "cell_type": "code",
   "execution_count": 1,
   "metadata": {},
   "outputs": [],
   "source": [
    "import pandas as pd"
   ]
  },
  {
   "cell_type": "code",
   "execution_count": 9,
   "metadata": {},
   "outputs": [
    {
     "output_type": "stream",
     "name": "stdout",
     "text": [
      "  Holiday_destinations  Score_out_of_10  Average_star_rating  \\\n3                Japan                5                    3   \n4             Barbados                9                    5   \n5              England               10                    2   \n6             Portugal                4                    1   \n7                  USA                2                    1   \n8               Canada                6                    2   \n\n   No_of_all-inc_hotels Most_visited_destinations  \n3                  1232                     Tokyo  \n4                    87                Bridgetown  \n5                    30                    London  \n6                  1268                    Lisbon  \n7                    66                       NYC  \n8                   346                  Montreal  \n"
     ]
    }
   ],
   "source": [
    "data = pd.read_csv(\"holidays.csv\")\n",
    "\n",
    "print(data.loc[3:8])"
   ]
  },
  {
   "cell_type": "code",
   "execution_count": null,
   "metadata": {},
   "outputs": [],
   "source": []
  }
 ]
}